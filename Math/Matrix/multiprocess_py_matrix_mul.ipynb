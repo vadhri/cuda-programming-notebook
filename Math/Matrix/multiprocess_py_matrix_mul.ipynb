{
  "nbformat": 4,
  "nbformat_minor": 0,
  "metadata": {
    "colab": {
      "provenance": [],
      "authorship_tag": "ABX9TyNnkpTJlkL8b0Nw2SR/Hhif",
      "include_colab_link": true
    },
    "kernelspec": {
      "name": "python3",
      "display_name": "Python 3"
    },
    "language_info": {
      "name": "python"
    }
  },
  "cells": [
    {
      "cell_type": "markdown",
      "metadata": {
        "id": "view-in-github",
        "colab_type": "text"
      },
      "source": [
        "<a href=\"https://colab.research.google.com/github/vadhri/hpc-notebook/blob/main/Math/Matrix/multiprocess_py_matrix_mul.ipynb\" target=\"_parent\"><img src=\"https://colab.research.google.com/assets/colab-badge.svg\" alt=\"Open In Colab\"/></a>"
      ]
    },
    {
      "cell_type": "code",
      "execution_count": null,
      "metadata": {
        "colab": {
          "base_uri": "https://localhost:8080/"
        },
        "id": "wbcZywjybWgN",
        "outputId": "4d39006f-a65f-43e1-ddff-f647daac7277"
      },
      "outputs": [
        {
          "output_type": "stream",
          "name": "stdout",
          "text": [
            "Multiplication operations (117, 213) X (213, 300) = 35100\n",
            "True\n"
          ]
        }
      ],
      "source": [
        "import multiprocessing as mp\n",
        "import numpy as np\n",
        "from multiprocessing import shared_memory\n",
        "from itertools import product\n",
        "\n",
        "# Generate random matrices\n",
        "m1 = np.random.rand(117, 213)\n",
        "m2 = np.random.rand(213, 300)\n",
        "\n",
        "def multiply(args):\n",
        "    row, col, shape_m1, shape_m2, name_m1, name_m2, name_out = args\n",
        "\n",
        "    # Attach to existing shared memory blocks\n",
        "    existing_m1 = shared_memory.SharedMemory(name=name_m1)\n",
        "    existing_m2 = shared_memory.SharedMemory(name=name_m2)\n",
        "    existing_out = shared_memory.SharedMemory(name=name_out)\n",
        "\n",
        "    # Reconstruct arrays from shared memory\n",
        "    sm1 = np.ndarray(shape_m1, dtype=np.float64, buffer=existing_m1.buf)\n",
        "    sm2 = np.ndarray(shape_m2, dtype=np.float64, buffer=existing_m2.buf)\n",
        "    out_matrix = np.ndarray((shape_m1[0], shape_m2[1]), dtype=np.float64, buffer=existing_out.buf)\n",
        "\n",
        "    # Perform multiplication directly in shared memory\n",
        "    out_matrix[row, col] = np.dot(sm1[row, :], sm2[:, col])\n",
        "\n",
        "    # Close shared memory in child process\n",
        "    existing_m1.close()\n",
        "    existing_m2.close()\n",
        "    existing_out.close()\n",
        "\n",
        "if __name__ == \"__main__\":\n",
        "    total_ops = m1.shape[0] * m2.shape[1]\n",
        "\n",
        "    # Create shared memory blocks\n",
        "    shm_m1 = shared_memory.SharedMemory(create=True, size=m1.nbytes)\n",
        "    shm_m2 = shared_memory.SharedMemory(create=True, size=m2.nbytes)\n",
        "    shm_out = shared_memory.SharedMemory(create=True, size=m1.shape[0] * m2.shape[1] * np.dtype(np.float64).itemsize)\n",
        "\n",
        "    # Create shared NumPy arrays\n",
        "    sm1 = np.ndarray(m1.shape, dtype=np.float64, buffer=shm_m1.buf)\n",
        "    sm2 = np.ndarray(m2.shape, dtype=np.float64, buffer=shm_m2.buf)\n",
        "    out_matrix = np.ndarray((m1.shape[0], m2.shape[1]), dtype=np.float64, buffer=shm_out.buf)\n",
        "\n",
        "    # Copy data into shared memory without duplicating\n",
        "    np.copyto(sm1, m1)\n",
        "    np.copyto(sm2, m2)\n",
        "\n",
        "    print(f\"Multiplication operations {m1.shape} X {m2.shape} = {total_ops}\")\n",
        "\n",
        "    pool = mp.Pool(processes=mp.cpu_count())\n",
        "\n",
        "    # Generate tasks with shared memory names\n",
        "    tasks = [(row, col, m1.shape, m2.shape, shm_m1.name, shm_m2.name, shm_out.name)\n",
        "             for row, col in product(range(m1.shape[0]), range(m2.shape[1]))]\n",
        "\n",
        "    with pool:\n",
        "        pool.map(multiply, tasks)\n",
        "\n",
        "    # Convert shared output to a NumPy array\n",
        "    output = np.copy(out_matrix)\n",
        "\n",
        "    # Cleanup shared memory\n",
        "    shm_m1.close()\n",
        "    shm_m1.unlink()\n",
        "    shm_m2.close()\n",
        "    shm_m2.unlink()\n",
        "    shm_out.close()\n",
        "    shm_out.unlink()\n",
        "\n",
        "    print(np.all(np.isclose(np.dot(m1, m2), output, atol=0.0001)))\n"
      ]
    }
  ]
}