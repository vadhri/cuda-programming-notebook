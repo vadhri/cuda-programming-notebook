{
  "nbformat": 4,
  "nbformat_minor": 0,
  "metadata": {
    "colab": {
      "provenance": [],
      "gpuType": "V28",
      "authorship_tag": "ABX9TyOLgzYbGpzG6B/HsG4ZObEG",
      "include_colab_link": true
    },
    "kernelspec": {
      "name": "python3",
      "display_name": "Python 3"
    },
    "language_info": {
      "name": "python"
    },
    "accelerator": "TPU"
  },
  "cells": [
    {
      "cell_type": "markdown",
      "metadata": {
        "id": "view-in-github",
        "colab_type": "text"
      },
      "source": [
        "<a href=\"https://colab.research.google.com/github/vadhri/cuda-programming-notebook/blob/main/MatrixTranspose.ipynb\" target=\"_parent\"><img src=\"https://colab.research.google.com/assets/colab-badge.svg\" alt=\"Open In Colab\"/></a>"
      ]
    },
    {
      "cell_type": "markdown",
      "source": [
        "### Matrix transpose"
      ],
      "metadata": {
        "id": "Om9wtZE9-vGT"
      }
    },
    {
      "cell_type": "markdown",
      "source": [
        "### 4x4\n",
        "\n",
        "$\n",
        "\\begin{pmatrix}\n",
        "  1 & 1 & 1 \\\\\n",
        "  2 & 2 & 2 \\\\\n",
        "  3 & 3 & 3\n",
        "\\end{pmatrix}\n",
        "$"
      ],
      "metadata": {
        "id": "7LbYeGZz-_J_"
      }
    },
    {
      "cell_type": "markdown",
      "source": [
        "**Method 1**\n",
        "\n",
        "In the GPU memory, have as many rows as threads in the block and use them for transposing into columns in target memory."
      ],
      "metadata": {
        "id": "vkMYBJdGWo3I"
      }
    },
    {
      "cell_type": "code",
      "execution_count": null,
      "metadata": {
        "colab": {
          "base_uri": "https://localhost:8080/"
        },
        "id": "C_R2SXUe-q5q",
        "outputId": "d7daf5dd-a1e9-4327-ae0c-00a4120590f6"
      },
      "outputs": [
        {
          "output_type": "stream",
          "name": "stdout",
          "text": [
            "Overwriting matrix_transpose_row_wise.cu\n"
          ]
        }
      ],
      "source": [
        "%%writefile matrix_transpose_row_wise.cu\n",
        "\n",
        "#include<stdio.h>\n",
        "#include<stdlib.h>\n",
        "\n",
        "void print_2d_matrix(int *a, int r, int c) {\n",
        "  for (int i = 0; i < r; i++) {\n",
        "    for (int j = 0; j < c; j++) {\n",
        "      printf(\"%d \", a[i*c+j]);\n",
        "    }\n",
        "    printf(\"\\n\");\n",
        "  }\n",
        "}\n",
        "\n",
        "__global__ void transpose_row_wise_per_thread(int *a, int *out, int r, int c) {\n",
        "  // Extract threadid\n",
        "  int idx = blockIdx.x * blockDim.x + threadIdx.x;\n",
        "\n",
        "  for (int i=0; i < c; i++) {\n",
        "    out[i*c+idx] = a[idx*c+i];\n",
        "  }\n",
        "}\n",
        "\n",
        "int main() {\n",
        "  int R = 100;\n",
        "  int C = 100;\n",
        "  int *a, *d_a, *d_out, *out;\n",
        "\n",
        "  a = (int *)malloc(sizeof(int) * R * C);\n",
        "  out = (int *)malloc(sizeof(int) * R * C);\n",
        "\n",
        "  for (int i = 0; i < R; i++) {\n",
        "    for (int j = 0; j < C; j++) {\n",
        "      a[(i*C) + j] = (100^i)*(10^j);\n",
        "    }\n",
        "  }\n",
        "\n",
        "  // Move the memory to GPU\n",
        "\n",
        "  cudaMalloc((void **)&d_a, R * C * sizeof(int));\n",
        "  cudaMalloc((void **)&d_out, R * C * sizeof(int));\n",
        "\n",
        "  cudaMemcpy(d_a, a, R * C * sizeof(int), cudaMemcpyHostToDevice);\n",
        "\n",
        "  printf(\"Assign 2d memory col memory for the GPU pointers.\\n\");\n",
        "\n",
        "  transpose_row_wise_per_thread<<<1,R>>>(d_a, d_out, R, C);\n",
        "\n",
        "  cudaError_t err = cudaGetLastError();\n",
        "  if (err != cudaSuccess) {\n",
        "      printf(\"CUDA Error: %s\\n\", cudaGetErrorString(err));\n",
        "  }\n",
        "\n",
        "  cudaMemcpy(out, d_out, R * C * sizeof(int), cudaMemcpyDeviceToHost);\n",
        "\n",
        "  printf(\"Out from GPU .. \\n\");\n",
        "\n",
        "\n",
        "  for (int i=0; i<R; i++){\n",
        "    for (int j =0; j <C; j++) {\n",
        "      if (a[i*C+j] != out[j*C+i]) {\n",
        "        printf(\"Incorrect transpose !!!\\n\");\n",
        "        print_2d_matrix(out, R, C);\n",
        "        print_2d_matrix(a, R, C);\n",
        "      }\n",
        "    }\n",
        "  }\n",
        "\n",
        "  cudaFree(d_a);\n",
        "  cudaFree(d_out);\n",
        "\n",
        "  free(out);\n",
        "  free(a);\n",
        "\n",
        "  return 0;\n",
        "}"
      ]
    },
    {
      "cell_type": "code",
      "source": [
        "!nvcc matrix_transpose_row_wise.cu  -o matrix_transpose_row_wise\n",
        "!./matrix_transpose_row_wise"
      ],
      "metadata": {
        "id": "vSxi1x9e_gUK",
        "colab": {
          "base_uri": "https://localhost:8080/"
        },
        "outputId": "29760617-ff90-463b-871e-3830b6c2946f"
      },
      "execution_count": null,
      "outputs": [
        {
          "output_type": "stream",
          "name": "stdout",
          "text": [
            "Assign 2d memory col memory for the GPU pointers.\n",
            "Out from GPU .. \n"
          ]
        }
      ]
    },
    {
      "cell_type": "code",
      "source": [
        "!nvprof ./matrix_transpose_row_wise"
      ],
      "metadata": {
        "colab": {
          "base_uri": "https://localhost:8080/"
        },
        "id": "GH-oGJYN81fr",
        "outputId": "ff8a8a2e-40c5-4b9f-ef7c-98143ad320a4"
      },
      "execution_count": null,
      "outputs": [
        {
          "output_type": "stream",
          "name": "stdout",
          "text": [
            "==26248== NVPROF is profiling process 26248, command: ./matrix_transpose_row_wise\n",
            "Assign 2d memory col memory for the GPU pointers.\n",
            "Out from GPU .. \n",
            "==26248== Profiling application: ./matrix_transpose_row_wise\n",
            "==26248== Profiling result:\n",
            "            Type  Time(%)      Time     Calls       Avg       Min       Max  Name\n",
            " GPU activities:   65.29%  21.312us         1  21.312us  21.312us  21.312us  transpose_row_wise_per_thread(int*, int*, int, int)\n",
            "                   19.12%  6.2400us         1  6.2400us  6.2400us  6.2400us  [CUDA memcpy HtoD]\n",
            "                   15.59%  5.0880us         1  5.0880us  5.0880us  5.0880us  [CUDA memcpy DtoH]\n",
            "      API calls:   99.36%  90.928ms         2  45.464ms  7.3740us  90.921ms  cudaMalloc\n",
            "                    0.23%  214.26us         1  214.26us  214.26us  214.26us  cudaLaunchKernel\n",
            "                    0.15%  139.48us       114  1.2230us     147ns  55.672us  cuDeviceGetAttribute\n",
            "                    0.11%  103.04us         2  51.521us  38.907us  64.135us  cudaMemcpy\n",
            "                    0.11%  101.37us         2  50.685us  8.8370us  92.533us  cudaFree\n",
            "                    0.01%  11.647us         1  11.647us  11.647us  11.647us  cuDeviceGetName\n",
            "                    0.01%  5.5420us         1  5.5420us  5.5420us  5.5420us  cuDeviceGetPCIBusId\n",
            "                    0.00%  4.4030us         1  4.4030us  4.4030us  4.4030us  cuDeviceTotalMem\n",
            "                    0.00%  1.3790us         3     459ns     205ns     934ns  cuDeviceGetCount\n",
            "                    0.00%  1.0850us         2     542ns     277ns     808ns  cuDeviceGet\n",
            "                    0.00%     687ns         1     687ns     687ns     687ns  cudaGetLastError\n",
            "                    0.00%     468ns         1     468ns     468ns     468ns  cuModuleGetLoadingMode\n",
            "                    0.00%     236ns         1     236ns     236ns     236ns  cuDeviceGetUuid\n"
          ]
        }
      ]
    },
    {
      "cell_type": "markdown",
      "source": [
        "**Method 2**\n",
        "\n",
        "Use 4x4 tiles per block and thread to do the operation.\n"
      ],
      "metadata": {
        "id": "VvQVb28PXbjK"
      }
    },
    {
      "cell_type": "code",
      "source": [
        "%%writefile matrix_transpose_row_wise.cu\n",
        "\n",
        "#include<stdio.h>\n",
        "#include<stdlib.h>\n",
        "\n",
        "#define TILE_DIM 4\n",
        "\n",
        "void print_2d_matrix(int *a, int r, int c) {\n",
        "  for (int i = 0; i < r; i++) {\n",
        "    for (int j = 0; j < c; j++) {\n",
        "      printf(\"%d \", a[i*c+j]);\n",
        "    }\n",
        "    printf(\"\\n\");\n",
        "  }\n",
        "}\n",
        "\n",
        "__global__ void transpose_row_wise_per_thread(int *a, int *out, int r, int c) {\n",
        "  // Extract threadid\n",
        "  int idx = blockIdx.x * blockDim.x + threadIdx.x;\n",
        "\n",
        "  for (int i=0; i < c; i++) {\n",
        "    out[i*c+idx] = a[idx*c+i];\n",
        "  }\n",
        "}\n",
        "\n",
        "int main() {\n",
        "  int R = 4;\n",
        "  int C = 4;\n",
        "  int *a, *d_a, *d_out, *out;\n",
        "\n",
        "  a = (int *)malloc(sizeof(int) * R * C);\n",
        "  out = (int *)malloc(sizeof(int) * R * C);\n",
        "\n",
        "  for (int i = 0; i < R; i++) {\n",
        "    for (int j = 0; j < C; j++) {\n",
        "      a[(i*C) + j] = (100^i)*(10^j);\n",
        "    }\n",
        "  }\n",
        "\n",
        "  // Move the memory to GPU\n",
        "\n",
        "  cudaMalloc((void **)&d_a, R * C * sizeof(int));\n",
        "  cudaMalloc((void **)&d_out, R * C * sizeof(int));\n",
        "\n",
        "  cudaMemcpy(d_a, a, R * C * sizeof(int), cudaMemcpyHostToDevice);\n",
        "\n",
        "  printf(\"Assign 2d memory col memory for the GPU pointers.\\n\");\n",
        "\n",
        "  transpose_row_wise_per_thread<<<1,R>>>(d_a, d_out, R, C);\n",
        "\n",
        "  cudaError_t err = cudaGetLastError();\n",
        "  if (err != cudaSuccess) {\n",
        "      printf(\"CUDA Error: %s\\n\", cudaGetErrorString(err));\n",
        "  }\n",
        "\n",
        "  cudaMemcpy(out, d_out, R * C * sizeof(int), cudaMemcpyDeviceToHost);\n",
        "\n",
        "  printf(\"Out from GPU .. \\n\");\n",
        "\n",
        "\n",
        "  for (int i=0; i<R; i++){\n",
        "    for (int j =0; j <C; j++) {\n",
        "      if (a[i*C+j] != out[j*C+i]) {\n",
        "        printf(\"Incorrect transpose !!!\\n\");\n",
        "        print_2d_matrix(out, R, C);\n",
        "        print_2d_matrix(a, R, C);\n",
        "      }\n",
        "    }\n",
        "  }\n",
        "\n",
        "  cudaFree(d_a);\n",
        "  cudaFree(d_out);\n",
        "\n",
        "  free(out);\n",
        "  free(a);\n",
        "\n",
        "  return 0;\n",
        "}"
      ],
      "metadata": {
        "colab": {
          "base_uri": "https://localhost:8080/"
        },
        "id": "-dlFw9ohXxwn",
        "outputId": "96eb2a4a-b7b1-4964-b182-221b02bcfaf0"
      },
      "execution_count": null,
      "outputs": [
        {
          "output_type": "stream",
          "name": "stdout",
          "text": [
            "Writing matrix_transpose_row_wise.cu\n"
          ]
        }
      ]
    },
    {
      "cell_type": "code",
      "source": [
        "!nvcc matrix_transpose_row_wise.cu  -o matrix_transpose_row_wise\n",
        "!./matrix_transpose_row_wise"
      ],
      "metadata": {
        "colab": {
          "base_uri": "https://localhost:8080/"
        },
        "id": "JwTcl-3rdtN0",
        "outputId": "6df93857-500d-4c63-f149-27f91b4ce196"
      },
      "execution_count": null,
      "outputs": [
        {
          "output_type": "stream",
          "name": "stdout",
          "text": [
            "\u001b[01m\u001b[Kcc1plus:\u001b[m\u001b[K \u001b[01;31m\u001b[Kfatal error: \u001b[m\u001b[Kmatrix_transpose_row_wise.cu: No such file or directory\n",
            "compilation terminated.\n",
            "/bin/bash: line 1: ./matrix_transpose_row_wise: No such file or directory\n"
          ]
        }
      ]
    }
  ]
}