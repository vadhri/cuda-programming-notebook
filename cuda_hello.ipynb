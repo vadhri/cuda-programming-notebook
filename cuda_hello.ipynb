{
  "nbformat": 4,
  "nbformat_minor": 0,
  "metadata": {
    "colab": {
      "provenance": [],
      "gpuType": "T4"
    },
    "kernelspec": {
      "name": "python3",
      "display_name": "Python 3"
    },
    "language_info": {
      "name": "python"
    },
    "accelerator": "GPU"
  },
  "cells": [
    {
      "cell_type": "markdown",
      "source": [
        "### Hello world CUDA"
      ],
      "metadata": {
        "id": "XuG1ORKoohlH"
      }
    },
    {
      "cell_type": "code",
      "execution_count": 30,
      "metadata": {
        "colab": {
          "base_uri": "https://localhost:8080/"
        },
        "id": "MnNEeRAFgBBW",
        "outputId": "3a5543be-8486-4d5f-85c4-50bdb9bebf68"
      },
      "outputs": [
        {
          "output_type": "stream",
          "name": "stdout",
          "text": [
            "Overwriting prog.c\n"
          ]
        }
      ],
      "source": [
        "%%writefile prog.c\n",
        "\n",
        "#include <stdio.h>\n",
        "\n",
        "int main() {\n",
        "  printf(\"This is testing ... \");\n",
        "}"
      ]
    },
    {
      "cell_type": "code",
      "source": [
        "!nvcc --version"
      ],
      "metadata": {
        "colab": {
          "base_uri": "https://localhost:8080/"
        },
        "id": "rH0Mjy2Ggs0u",
        "outputId": "4db17854-52b2-49df-e95a-0884dda24bc9"
      },
      "execution_count": 31,
      "outputs": [
        {
          "output_type": "stream",
          "name": "stdout",
          "text": [
            "nvcc: NVIDIA (R) Cuda compiler driver\n",
            "Copyright (c) 2005-2023 NVIDIA Corporation\n",
            "Built on Tue_Aug_15_22:02:13_PDT_2023\n",
            "Cuda compilation tools, release 12.2, V12.2.140\n",
            "Build cuda_12.2.r12.2/compiler.33191640_0\n"
          ]
        }
      ]
    },
    {
      "cell_type": "code",
      "source": [
        "!nvcc prog.c -o prog"
      ],
      "metadata": {
        "id": "X-m1SuUriXMQ"
      },
      "execution_count": 32,
      "outputs": []
    },
    {
      "cell_type": "code",
      "source": [
        "!./prog"
      ],
      "metadata": {
        "colab": {
          "base_uri": "https://localhost:8080/"
        },
        "id": "xbzqg_pYiZeM",
        "outputId": "17182e79-3179-4ef2-bce1-326dbb761266"
      },
      "execution_count": 33,
      "outputs": [
        {
          "output_type": "stream",
          "name": "stdout",
          "text": [
            "This is testing ... "
          ]
        }
      ]
    },
    {
      "cell_type": "code",
      "source": [
        "%%writefile cuda_prog.cu\n",
        "\n",
        "#include <stdio.h>\n",
        "\n",
        "__global__ void cuda_hello(){\n",
        "    printf(\"Hello World from GPU!\\n\");\n",
        "}\n",
        "\n",
        "int main() {\n",
        "    cuda_hello<<<1,1>>>();\n",
        "    cudaDeviceSynchronize();\n",
        "    return 0;\n",
        "}"
      ],
      "metadata": {
        "colab": {
          "base_uri": "https://localhost:8080/"
        },
        "id": "rG-wmVUuisks",
        "outputId": "58aa91d2-c08b-4157-8df9-eecbb238eff5"
      },
      "execution_count": 34,
      "outputs": [
        {
          "output_type": "stream",
          "name": "stdout",
          "text": [
            "Overwriting cuda_prog.cu\n"
          ]
        }
      ]
    },
    {
      "cell_type": "code",
      "source": [
        "!nvcc cuda_prog.cu -o prog\n",
        "!./prog"
      ],
      "metadata": {
        "colab": {
          "base_uri": "https://localhost:8080/"
        },
        "id": "u-MbyApUkYah",
        "outputId": "3267237f-8c0b-47c7-e6c0-74b9422b0541"
      },
      "execution_count": 35,
      "outputs": [
        {
          "output_type": "stream",
          "name": "stdout",
          "text": [
            "Hello World from GPU!\n"
          ]
        }
      ]
    },
    {
      "cell_type": "markdown",
      "source": [
        "### GPU based vector addition"
      ],
      "metadata": {
        "id": "lGvA4Tn4ot1H"
      }
    },
    {
      "cell_type": "markdown",
      "source": [
        "#### CPU vector add"
      ],
      "metadata": {
        "id": "-XMhu2BnqEdx"
      }
    },
    {
      "cell_type": "code",
      "source": [
        "%%writefile vector_add.c\n",
        "\n",
        "#include<stdio.h>\n",
        "#include <stdlib.h>\n",
        "\n",
        "void add(float *a, float *b, float *out, int n) {\n",
        "    for (int i = 0; i < n; i++) {\n",
        "        out[i] = a[i] + b[i];\n",
        "    }\n",
        "}\n",
        "\n",
        "int main() {\n",
        "  int N = 10;\n",
        "  float *a = (float*) malloc(N * sizeof(float));\n",
        "  float *b = (float*) malloc(N * sizeof(float));\n",
        "  float *out = (float*) malloc(N * sizeof(float));\n",
        "  for (int i=0; i < N; i++) {\n",
        "    a[i] = i;\n",
        "    b[i] = 3*i;\n",
        "  }\n",
        "  add(a,b,out,N);\n",
        "  for (int i=0; i < N; i++) {\n",
        "    printf(\"%.2f \", out[i]);\n",
        "  }\n",
        "}"
      ],
      "metadata": {
        "colab": {
          "base_uri": "https://localhost:8080/"
        },
        "id": "4q4S8OxhkaKh",
        "outputId": "558341f5-e7b7-478c-c8ce-bb2112586397"
      },
      "execution_count": 50,
      "outputs": [
        {
          "output_type": "stream",
          "name": "stdout",
          "text": [
            "Overwriting vector_add.c\n"
          ]
        }
      ]
    },
    {
      "cell_type": "code",
      "source": [
        "!nvcc vector_add.c -o vector_add\n",
        "!./vector_add"
      ],
      "metadata": {
        "colab": {
          "base_uri": "https://localhost:8080/"
        },
        "id": "T1aETFbVoruP",
        "outputId": "99f754f3-d88b-43d6-acab-4d93b2f315dd"
      },
      "execution_count": 51,
      "outputs": [
        {
          "output_type": "stream",
          "name": "stdout",
          "text": [
            "0.00 4.00 8.00 12.00 16.00 20.00 24.00 28.00 32.00 36.00 "
          ]
        }
      ]
    },
    {
      "cell_type": "markdown",
      "source": [
        "#### GPU vector add"
      ],
      "metadata": {
        "id": "O5x2g5pxqGx-"
      }
    },
    {
      "cell_type": "code",
      "source": [
        "%%writefile vector_add.cu\n",
        "\n",
        "#include<stdio.h>\n",
        "#include <stdlib.h>\n",
        "\n",
        "// This function will be exectuted in the GPU,\n",
        "// the pointers are expected to be in the device memory.\n",
        "\n",
        "__global__ void add(float *a, float *b, float *out, int n) {\n",
        "    for (int i = 0; i < n; i++) {\n",
        "        out[i] = a[i] + b[i];\n",
        "    }\n",
        "}\n",
        "\n",
        "int main() {\n",
        "  int N = 10;\n",
        "  float *a = (float*) malloc(N * sizeof(float));\n",
        "  float *b = (float*) malloc(N * sizeof(float));\n",
        "  float *out = (float*) malloc(N * sizeof(float));\n",
        "  for (int i=0; i < N; i++) {\n",
        "    a[i] = i;\n",
        "    b[i] = 3*i;\n",
        "  }\n",
        "\n",
        "  // Move the memory to GPU\n",
        "  float *d_a, *d_b, *d_out;\n",
        "  cudaMalloc((void**) &d_a, N * sizeof(float));\n",
        "  cudaMalloc((void**) &d_b, N * sizeof(float));\n",
        "  cudaMalloc((void**) &d_out, N * sizeof(float));\n",
        "\n",
        "  cudaMemcpy(d_a, a, N * sizeof(float), cudaMemcpyHostToDevice);\n",
        "  cudaMemcpy(d_b, b, N * sizeof(float), cudaMemcpyHostToDevice);\n",
        "\n",
        "  // Execute the function on the GPU.\n",
        "  add<<<1,1>>>(d_a, d_b, d_out, N);\n",
        "\n",
        "  // Copy the memory back to CPU\n",
        "  cudaMemcpy(out, d_out, N * sizeof(float), cudaMemcpyDeviceToHost);\n",
        "\n",
        "  for (int i=0; i < N; i++) {\n",
        "    printf(\"%.2f \", out[i]);\n",
        "  }\n",
        "}"
      ],
      "metadata": {
        "colab": {
          "base_uri": "https://localhost:8080/"
        },
        "id": "BX2FMM13ospW",
        "outputId": "6d5f2272-51de-46b2-c693-cbe47be2bbf8"
      },
      "execution_count": 57,
      "outputs": [
        {
          "output_type": "stream",
          "name": "stdout",
          "text": [
            "Overwriting vector_add.cu\n"
          ]
        }
      ]
    },
    {
      "cell_type": "code",
      "source": [
        "!nvcc vector_add.cu -o vector_add_cu\n",
        "!./vector_add_cu"
      ],
      "metadata": {
        "colab": {
          "base_uri": "https://localhost:8080/"
        },
        "id": "4e_HPhberATL",
        "outputId": "8d90db01-58d3-4790-9255-884746105c5a"
      },
      "execution_count": 58,
      "outputs": [
        {
          "output_type": "stream",
          "name": "stdout",
          "text": [
            "0.00 4.00 8.00 12.00 16.00 20.00 24.00 28.00 32.00 36.00 "
          ]
        }
      ]
    },
    {
      "cell_type": "markdown",
      "source": [
        "#### Profiling"
      ],
      "metadata": {
        "id": "z-cwiF9xr8lY"
      }
    },
    {
      "cell_type": "code",
      "source": [
        "!nvprof ./vector_add_cu"
      ],
      "metadata": {
        "colab": {
          "base_uri": "https://localhost:8080/"
        },
        "id": "cUxlL-l8r-K3",
        "outputId": "c9942b58-baa4-423a-a5a9-9ea8ae3d334a"
      },
      "execution_count": 59,
      "outputs": [
        {
          "output_type": "stream",
          "name": "stdout",
          "text": [
            "==14471== NVPROF is profiling process 14471, command: ./vector_add_cu\n",
            "==14471== Profiling application: ./vector_add_cu\n",
            "0.00 4.00 8.00 12.00 16.00 20.00 24.00 28.00 32.00 36.00 ==14471== Profiling result:\n",
            "            Type  Time(%)      Time     Calls       Avg       Min       Max  Name\n",
            " GPU activities:   53.81%  4.7350us         1  4.7350us  4.7350us  4.7350us  add(float*, float*, float*, int)\n",
            "                   26.18%  2.3040us         1  2.3040us  2.3040us  2.3040us  [CUDA memcpy DtoH]\n",
            "                   20.00%  1.7600us         2     880ns     640ns  1.1200us  [CUDA memcpy HtoD]\n",
            "      API calls:   99.52%  85.776ms         3  28.592ms  5.8860us  85.762ms  cudaMalloc\n",
            "                    0.23%  198.49us         1  198.49us  198.49us  198.49us  cudaLaunchKernel\n",
            "                    0.16%  134.93us       114  1.1830us     136ns  53.724us  cuDeviceGetAttribute\n",
            "                    0.06%  54.132us         3  18.044us  7.3870us  26.788us  cudaMemcpy\n",
            "                    0.01%  12.495us         1  12.495us  12.495us  12.495us  cuDeviceGetName\n",
            "                    0.01%  5.1520us         1  5.1520us  5.1520us  5.1520us  cuDeviceGetPCIBusId\n",
            "                    0.01%  4.9560us         1  4.9560us  4.9560us  4.9560us  cuDeviceTotalMem\n",
            "                    0.00%  1.3870us         3     462ns     224ns     897ns  cuDeviceGetCount\n",
            "                    0.00%  1.0430us         2     521ns     198ns     845ns  cuDeviceGet\n",
            "                    0.00%     395ns         1     395ns     395ns     395ns  cuModuleGetLoadingMode\n",
            "                    0.00%     262ns         1     262ns     262ns     262ns  cuDeviceGetUuid\n"
          ]
        }
      ]
    },
    {
      "cell_type": "code",
      "source": [],
      "metadata": {
        "id": "R4L3XQbesAkv"
      },
      "execution_count": null,
      "outputs": []
    }
  ]
}