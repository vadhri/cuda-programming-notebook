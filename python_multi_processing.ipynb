{
  "nbformat": 4,
  "nbformat_minor": 0,
  "metadata": {
    "colab": {
      "provenance": [],
      "authorship_tag": "ABX9TyMGrDiW1fHtg83EMVhTk4cq",
      "include_colab_link": true
    },
    "kernelspec": {
      "name": "python3",
      "display_name": "Python 3"
    },
    "language_info": {
      "name": "python"
    }
  },
  "cells": [
    {
      "cell_type": "markdown",
      "metadata": {
        "id": "view-in-github",
        "colab_type": "text"
      },
      "source": [
        "<a href=\"https://colab.research.google.com/github/vadhri/hpc-notebook/blob/main/python_multi_processing.ipynb\" target=\"_parent\"><img src=\"https://colab.research.google.com/assets/colab-badge.svg\" alt=\"Open In Colab\"/></a>"
      ]
    },
    {
      "cell_type": "markdown",
      "source": [
        "### Mutiprocessing"
      ],
      "metadata": {
        "id": "l974grswFoGT"
      }
    },
    {
      "cell_type": "code",
      "execution_count": 24,
      "metadata": {
        "colab": {
          "base_uri": "https://localhost:8080/"
        },
        "id": "9JHx34tt7CYv",
        "outputId": "248fd06a-05a8-404a-e9dc-fc34afab162e"
      },
      "outputs": [
        {
          "output_type": "stream",
          "name": "stdout",
          "text": [
            "adder = 0\n",
            "\n",
            "adder = 55\n",
            "\n",
            "adder = 210\n",
            "mul = 100 \n",
            "\n",
            "adder = 465\n",
            "\n",
            "mul = 400 \n",
            "\n",
            "\n",
            "adder = 820\n",
            "\n",
            "adder = 1275\n",
            "mul = 900 \n",
            "\n",
            "adder = 1830\n",
            "\n",
            "\n",
            "\n",
            "adder = 2485\n",
            "adder = 3240\n",
            "\n",
            "adder = 4095\n",
            "\n",
            "mul = 1600 \n",
            "\n",
            "mul = 2500 \n",
            "\n",
            "mul = 3600 \n",
            "\n",
            "mul = 4900 \n",
            "\n",
            "mul = 6400 \n",
            "\n",
            "mul = 8100 \n",
            "\n"
          ]
        }
      ],
      "source": [
        "import multiprocessing as mp\n",
        "\n",
        "def adder():\n",
        "  a = 0\n",
        "  for i in range(100):\n",
        "    a += i\n",
        "    if i%10==0:\n",
        "      print (f\"adder = {a}\\n\")\n",
        "\n",
        "adder_process = mp.Process(target=adder, args=[])\n",
        "\n",
        "def mul(__name__):\n",
        "  a = 1\n",
        "  for i in range(1,100):\n",
        "    a = i*i\n",
        "    if i%10==0:\n",
        "      print (f\"mul = {a} \\n\")\n",
        "\n",
        "mul_process = mp.Process(target=mul, args=[\"mul_adder_process\"])\n",
        "\n",
        "adder_process.start()\n",
        "mul_process.start()\n",
        "adder_process.join()\n",
        "mul_process.join()\n"
      ]
    },
    {
      "cell_type": "markdown",
      "source": [
        "### Logger using Queue\n",
        "\n",
        "https://docs.python.org/3/howto/logging-cookbook.html#logging-to-a-single-file-from-multiple-processes"
      ],
      "metadata": {
        "id": "-i_yltNzHSfT"
      }
    },
    {
      "cell_type": "code",
      "source": [
        "import multiprocessing as mp\n",
        "import logging\n",
        "import logging.handlers\n",
        "\n",
        "def listener_configurer():\n",
        "    root = logging.getLogger()\n",
        "    h = logging.handlers.RotatingFileHandler('mptest.log', 'a', 300, 10)\n",
        "    f = logging.Formatter('%(asctime)s %(processName)-10s %(name)s %(levelname)-8s %(message)s')\n",
        "    h.setFormatter(f)\n",
        "    root.addHandler(h)\n",
        "\n",
        "# This is the listener process top-level loop: wait for logging events\n",
        "# (LogRecords)on the queue and handle them, quit when you get a None for a\n",
        "# LogRecord.\n",
        "def listener_process(queue, configurer):\n",
        "    configurer()\n",
        "    while True:\n",
        "        try:\n",
        "            record = queue.get()\n",
        "            if record is None:  # We send this as a sentinel to tell the listener to quit.\n",
        "                break\n",
        "            logger = logging.getLogger(record.name)\n",
        "            logger.handle(record)  # No level or filter logic applied - just do it!\n",
        "        except Exception:\n",
        "            import sys, traceback\n",
        "            print('Whoops! Problem:', file=sys.stderr)\n",
        "            traceback.print_exc(file=sys.stderr)\n",
        "\n",
        "def worker_configurer(queue):\n",
        "    h = logging.handlers.QueueHandler(queue)  # Just the one handler needed\n",
        "    root = logging.getLogger()\n",
        "    root.addHandler(h)\n",
        "    # send all messages, for demo; no other level or filter logic applied.\n",
        "    root.setLevel(logging.DEBUG)\n",
        "\n",
        "def adder(name, queue, configurer):\n",
        "  configurer(queue)\n",
        "  logger = logging.getLogger()\n",
        "\n",
        "  a = 0\n",
        "  for i in range(5):\n",
        "    a += i\n",
        "    if i:\n",
        "      logger.log(logging.DEBUG, f\"adder {a}\")\n",
        "\n",
        "    print('Worker finished: %s' % name)\n",
        "\n",
        "\n",
        "queue = mp.Queue(-1)\n",
        "listener = mp.Process(target=listener_process,\n",
        "                                    args=(queue, listener_configurer))\n",
        "listener.start()\n",
        "\n",
        "adder_process = mp.Process(target=adder, args=[\"adder\", queue, worker_configurer])\n",
        "\n",
        "def mul(name, queue, configurer):\n",
        "  configurer(queue)\n",
        "  logger = logging.getLogger()\n",
        "\n",
        "  a = 1\n",
        "  for i in range(1,10):\n",
        "    a = i*i\n",
        "    if i:\n",
        "      logger.log(logging.DEBUG, f\"mul {a}\")\n",
        "    print('Worker finished: %s' % name)\n",
        "\n",
        "mul_process = mp.Process(target=mul, args=[\"mul\", queue, worker_configurer])\n",
        "\n",
        "adder_process.start()\n",
        "mul_process.start()\n",
        "adder_process.join()\n",
        "mul_process.join()\n",
        "queue.put_nowait(None)\n",
        "listener.join()"
      ],
      "metadata": {
        "colab": {
          "base_uri": "https://localhost:8080/"
        },
        "id": "-ZZxR--0AKBn",
        "outputId": "6063111c-bdb9-4919-d5d5-c79198caaeee"
      },
      "execution_count": 58,
      "outputs": [
        {
          "output_type": "stream",
          "name": "stdout",
          "text": [
            "Worker finished: adder\n"
          ]
        },
        {
          "output_type": "stream",
          "name": "stderr",
          "text": [
            "DEBUG:root:adder 1\n",
            "DEBUG:root:mul 1\n"
          ]
        },
        {
          "output_type": "stream",
          "name": "stdout",
          "text": [
            "Worker finished: adder\n"
          ]
        },
        {
          "output_type": "stream",
          "name": "stderr",
          "text": [
            "DEBUG:root:adder 3\n",
            "DEBUG:root:adder 1\n"
          ]
        },
        {
          "output_type": "stream",
          "name": "stdout",
          "text": [
            "Worker finished: adder\n",
            "Worker finished: mul"
          ]
        },
        {
          "output_type": "stream",
          "name": "stderr",
          "text": [
            "DEBUG:root:adder 3\n",
            "DEBUG:root:adder 6\n",
            "DEBUG:root:mul 1\n"
          ]
        },
        {
          "output_type": "stream",
          "name": "stdout",
          "text": [
            "\n"
          ]
        },
        {
          "output_type": "stream",
          "name": "stderr",
          "text": [
            "DEBUG:root:mul 4\n",
            "DEBUG:root:adder 6\n"
          ]
        },
        {
          "output_type": "stream",
          "name": "stdout",
          "text": [
            "Worker finished: mulWorker finished: adder\n"
          ]
        },
        {
          "output_type": "stream",
          "name": "stderr",
          "text": [
            "DEBUG:root:mul 4\n",
            "DEBUG:root:adder 10\n"
          ]
        },
        {
          "output_type": "stream",
          "name": "stdout",
          "text": [
            "\n"
          ]
        },
        {
          "output_type": "stream",
          "name": "stderr",
          "text": [
            "DEBUG:root:adder 10\n",
            "DEBUG:root:mul 9\n"
          ]
        },
        {
          "output_type": "stream",
          "name": "stdout",
          "text": [
            "Worker finished: adder"
          ]
        },
        {
          "output_type": "stream",
          "name": "stderr",
          "text": [
            "DEBUG:root:mul 9\n"
          ]
        },
        {
          "output_type": "stream",
          "name": "stdout",
          "text": [
            "Worker finished: mul\n",
            "\n"
          ]
        },
        {
          "output_type": "stream",
          "name": "stderr",
          "text": [
            "DEBUG:root:mul 16\n"
          ]
        },
        {
          "output_type": "stream",
          "name": "stdout",
          "text": [
            "Worker finished: mul"
          ]
        },
        {
          "output_type": "stream",
          "name": "stderr",
          "text": [
            "DEBUG:root:mul 16\n"
          ]
        },
        {
          "output_type": "stream",
          "name": "stdout",
          "text": [
            "\n"
          ]
        },
        {
          "output_type": "stream",
          "name": "stderr",
          "text": [
            "DEBUG:root:mul 25\n"
          ]
        },
        {
          "output_type": "stream",
          "name": "stdout",
          "text": [
            "Worker finished: mul"
          ]
        },
        {
          "output_type": "stream",
          "name": "stderr",
          "text": [
            "DEBUG:root:mul 25\n"
          ]
        },
        {
          "output_type": "stream",
          "name": "stdout",
          "text": [
            "\n"
          ]
        },
        {
          "output_type": "stream",
          "name": "stderr",
          "text": [
            "DEBUG:root:mul 36\n",
            "DEBUG:root:mul 36\n"
          ]
        },
        {
          "output_type": "stream",
          "name": "stdout",
          "text": [
            "Worker finished: mul\n"
          ]
        },
        {
          "output_type": "stream",
          "name": "stderr",
          "text": [
            "DEBUG:root:mul 49\n"
          ]
        },
        {
          "output_type": "stream",
          "name": "stdout",
          "text": [
            "Worker finished: mul"
          ]
        },
        {
          "output_type": "stream",
          "name": "stderr",
          "text": [
            "DEBUG:root:mul 49\n"
          ]
        },
        {
          "output_type": "stream",
          "name": "stdout",
          "text": [
            "\n"
          ]
        },
        {
          "output_type": "stream",
          "name": "stderr",
          "text": [
            "DEBUG:root:mul 64\n",
            "DEBUG:root:mul 64\n"
          ]
        },
        {
          "output_type": "stream",
          "name": "stdout",
          "text": [
            "Worker finished: mul\n"
          ]
        },
        {
          "output_type": "stream",
          "name": "stderr",
          "text": [
            "DEBUG:root:mul 81\n"
          ]
        },
        {
          "output_type": "stream",
          "name": "stdout",
          "text": [
            "Worker finished: mul\n"
          ]
        },
        {
          "output_type": "stream",
          "name": "stderr",
          "text": [
            "DEBUG:root:mul 81\n"
          ]
        }
      ]
    },
    {
      "cell_type": "code",
      "source": [
        "!cat mptest* > mptest.total.log\n",
        "!sort mptest.total.log"
      ],
      "metadata": {
        "colab": {
          "base_uri": "https://localhost:8080/"
        },
        "id": "rSwJAD4-Lp5P",
        "outputId": "e2ebb797-08cd-4999-e110-6b72641583d9"
      },
      "execution_count": 61,
      "outputs": [
        {
          "output_type": "stream",
          "name": "stdout",
          "text": [
            "cat: mptest.total.log: input file is output file\n",
            "2025-02-23 05:17:24,553 Process-126 root DEBUG    mul 1\n",
            "2025-02-23 05:17:24,560 Process-125 root DEBUG    adder 1\n",
            "2025-02-23 05:17:24,583 Process-125 root DEBUG    adder 3\n",
            "2025-02-23 05:17:24,605 Process-125 root DEBUG    adder 6\n",
            "2025-02-23 05:17:24,616 Process-126 root DEBUG    mul 4\n",
            "2025-02-23 05:17:24,632 Process-125 root DEBUG    adder 10\n",
            "2025-02-23 05:17:24,643 Process-126 root DEBUG    mul 9\n",
            "2025-02-23 05:17:24,679 Process-126 root DEBUG    mul 16\n",
            "2025-02-23 05:17:24,696 Process-126 root DEBUG    mul 25\n",
            "2025-02-23 05:17:24,705 Process-126 root DEBUG    mul 36\n",
            "2025-02-23 05:17:24,716 Process-126 root DEBUG    mul 49\n",
            "2025-02-23 05:17:24,728 Process-126 root DEBUG    mul 64\n",
            "2025-02-23 05:17:24,741 Process-126 root DEBUG    mul 81\n"
          ]
        }
      ]
    },
    {
      "cell_type": "markdown",
      "source": [
        "### Shared array access across processes"
      ],
      "metadata": {
        "id": "4iMXcDaQSWR2"
      }
    },
    {
      "cell_type": "code",
      "source": [
        "# Run cells above before this.\n",
        "import multiprocessing as mp\n",
        "import logging\n",
        "import logging.handlers\n",
        "import ctypes\n",
        "\n",
        "queue = mp.Queue(-1)\n",
        "listener = mp.Process(target=listener_process,\n",
        "                                    args=(queue, listener_configurer))\n",
        "listener.start()\n",
        "\n",
        "# create a shared Array.\n",
        "shared_array = mp.Array(ctypes.c_int, 2)  # Shared array of integers\n",
        "shared_array[0] = 0\n",
        "shared_array[1] = 1\n",
        "\n",
        "def adder(name, queue, configurer, a_shared):\n",
        "  configurer(queue)\n",
        "  logger = logging.getLogger()\n",
        "\n",
        "  for i in range(5):\n",
        "    a_shared[0] += i\n",
        "    if i:\n",
        "      logger.log(logging.DEBUG, f\"adder {a_shared[0]}\")\n",
        "\n",
        "\n",
        "adder_process = mp.Process(target=adder, args=[\"adder\", queue, worker_configurer, shared_array])\n",
        "\n",
        "def mul(name, queue, configurer, a_shared):\n",
        "  configurer(queue)\n",
        "  logger = logging.getLogger()\n",
        "\n",
        "  for i in range(1,6):\n",
        "    a_shared[1] = i*i\n",
        "    if i:\n",
        "      logger.log(logging.DEBUG, f\"mul {a_shared[1]}\")\n",
        "\n",
        "mul_process = mp.Process(target=mul, args=[\"mul\", queue, worker_configurer, shared_array])\n",
        "\n",
        "adder_process.start()\n",
        "mul_process.start()\n",
        "adder_process.join()\n",
        "mul_process.join()\n",
        "queue.put_nowait(None)\n",
        "listener.join()\n",
        "\n",
        "print(\"Updated shared array:\", list(shared_array))\n"
      ],
      "metadata": {
        "colab": {
          "base_uri": "https://localhost:8080/"
        },
        "id": "LSfgIdVmPUvl",
        "outputId": "036f4cc4-3396-4f2c-eba8-6af1adbca3c8"
      },
      "execution_count": 69,
      "outputs": [
        {
          "output_type": "stream",
          "name": "stderr",
          "text": [
            "DEBUG:root:adder 1\n",
            "DEBUG:root:adder 1\n",
            "DEBUG:root:adder 3\n",
            "DEBUG:root:adder 3\n",
            "DEBUG:root:adder 6\n",
            "DEBUG:root:adder 10\n",
            "DEBUG:root:adder 6\n",
            "DEBUG:root:mul 1\n",
            "DEBUG:root:adder 10\n",
            "DEBUG:root:mul 4\n",
            "DEBUG:root:mul 1\n",
            "DEBUG:root:mul 9\n",
            "DEBUG:root:mul 16\n",
            "DEBUG:root:mul 4\n",
            "DEBUG:root:mul 25\n",
            "DEBUG:root:mul 9\n",
            "DEBUG:root:mul 16\n",
            "DEBUG:root:mul 25\n"
          ]
        },
        {
          "output_type": "stream",
          "name": "stdout",
          "text": [
            "Updated shared array: [10, 25]\n"
          ]
        }
      ]
    },
    {
      "cell_type": "code",
      "source": [],
      "metadata": {
        "id": "b4cBnygbT7tl"
      },
      "execution_count": null,
      "outputs": []
    }
  ]
}